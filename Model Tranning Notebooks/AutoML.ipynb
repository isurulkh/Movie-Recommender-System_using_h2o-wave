{
 "cells": [
  {
   "cell_type": "code",
   "execution_count": 1,
   "metadata": {},
   "outputs": [
    {
     "name": "stderr",
     "output_type": "stream",
     "text": [
      "C:\\Users\\lenovo\\AppData\\Local\\Temp\\ipykernel_5464\\859450931.py:3: DeprecationWarning: \n",
      "Pyarrow will become a required dependency of pandas in the next major release of pandas (pandas 3.0),\n",
      "(to allow more performant data types, such as the Arrow string type, and better interoperability with other libraries)\n",
      "but was not found to be installed on your system.\n",
      "If this would cause problems for you,\n",
      "please provide us feedback at https://github.com/pandas-dev/pandas/issues/54466\n",
      "        \n",
      "  import pandas as pd\n"
     ]
    }
   ],
   "source": [
    "import h2o\n",
    "from h2o.automl import H2OAutoML\n",
    "import pandas as pd\n"
   ]
  },
  {
   "cell_type": "code",
   "execution_count": 2,
   "metadata": {},
   "outputs": [
    {
     "name": "stdout",
     "output_type": "stream",
     "text": [
      "Checking whether there is an H2O instance running at http://localhost:54321..... not found.\n",
      "Attempting to start a local H2O server...\n",
      "; OpenJDK 64-Bit Server VM (AdoptOpenJDK)(build 25.242-b08, mixed mode)\n",
      "  Starting server from C:\\Users\\lenovo\\Documents\\AI and ML\\H20 Wave\\venv\\Lib\\site-packages\\h2o\\backend\\bin\\h2o.jar\n",
      "  Ice root: C:\\Users\\lenovo\\AppData\\Local\\Temp\\tmpmhgd7x_o\n",
      "  JVM stdout: C:\\Users\\lenovo\\AppData\\Local\\Temp\\tmpmhgd7x_o\\h2o_lenovo_started_from_python.out\n",
      "  JVM stderr: C:\\Users\\lenovo\\AppData\\Local\\Temp\\tmpmhgd7x_o\\h2o_lenovo_started_from_python.err\n",
      "  Server is running at http://127.0.0.1:54321\n",
      "Connecting to H2O server at http://127.0.0.1:54321 ... successful.\n"
     ]
    },
    {
     "data": {
      "text/html": [
       "\n",
       "<style>\n",
       "\n",
       "#h2o-table-1.h2o-container {\n",
       "  overflow-x: auto;\n",
       "}\n",
       "#h2o-table-1 .h2o-table {\n",
       "  /* width: 100%; */\n",
       "  margin-top: 1em;\n",
       "  margin-bottom: 1em;\n",
       "}\n",
       "#h2o-table-1 .h2o-table caption {\n",
       "  white-space: nowrap;\n",
       "  caption-side: top;\n",
       "  text-align: left;\n",
       "  /* margin-left: 1em; */\n",
       "  margin: 0;\n",
       "  font-size: larger;\n",
       "}\n",
       "#h2o-table-1 .h2o-table thead {\n",
       "  white-space: nowrap; \n",
       "  position: sticky;\n",
       "  top: 0;\n",
       "  box-shadow: 0 -1px inset;\n",
       "}\n",
       "#h2o-table-1 .h2o-table tbody {\n",
       "  overflow: auto;\n",
       "}\n",
       "#h2o-table-1 .h2o-table th,\n",
       "#h2o-table-1 .h2o-table td {\n",
       "  text-align: right;\n",
       "  /* border: 1px solid; */\n",
       "}\n",
       "#h2o-table-1 .h2o-table tr:nth-child(even) {\n",
       "  /* background: #F5F5F5 */\n",
       "}\n",
       "\n",
       "</style>      \n",
       "<div id=\"h2o-table-1\" class=\"h2o-container\">\n",
       "  <table class=\"h2o-table\">\n",
       "    <caption></caption>\n",
       "    <thead></thead>\n",
       "    <tbody><tr><td>H2O_cluster_uptime:</td>\n",
       "<td>04 secs</td></tr>\n",
       "<tr><td>H2O_cluster_timezone:</td>\n",
       "<td>Asia/Colombo</td></tr>\n",
       "<tr><td>H2O_data_parsing_timezone:</td>\n",
       "<td>UTC</td></tr>\n",
       "<tr><td>H2O_cluster_version:</td>\n",
       "<td>3.44.0.3</td></tr>\n",
       "<tr><td>H2O_cluster_version_age:</td>\n",
       "<td>1 month and 29 days</td></tr>\n",
       "<tr><td>H2O_cluster_name:</td>\n",
       "<td>H2O_from_python_lenovo_klfjtj</td></tr>\n",
       "<tr><td>H2O_cluster_total_nodes:</td>\n",
       "<td>1</td></tr>\n",
       "<tr><td>H2O_cluster_free_memory:</td>\n",
       "<td>3.507 Gb</td></tr>\n",
       "<tr><td>H2O_cluster_total_cores:</td>\n",
       "<td>8</td></tr>\n",
       "<tr><td>H2O_cluster_allowed_cores:</td>\n",
       "<td>8</td></tr>\n",
       "<tr><td>H2O_cluster_status:</td>\n",
       "<td>locked, healthy</td></tr>\n",
       "<tr><td>H2O_connection_url:</td>\n",
       "<td>http://127.0.0.1:54321</td></tr>\n",
       "<tr><td>H2O_connection_proxy:</td>\n",
       "<td>{\"http\": null, \"https\": null}</td></tr>\n",
       "<tr><td>H2O_internal_security:</td>\n",
       "<td>False</td></tr>\n",
       "<tr><td>Python_version:</td>\n",
       "<td>3.10.9 final</td></tr></tbody>\n",
       "  </table>\n",
       "</div>\n"
      ],
      "text/plain": [
       "--------------------------  -----------------------------\n",
       "H2O_cluster_uptime:         04 secs\n",
       "H2O_cluster_timezone:       Asia/Colombo\n",
       "H2O_data_parsing_timezone:  UTC\n",
       "H2O_cluster_version:        3.44.0.3\n",
       "H2O_cluster_version_age:    1 month and 29 days\n",
       "H2O_cluster_name:           H2O_from_python_lenovo_klfjtj\n",
       "H2O_cluster_total_nodes:    1\n",
       "H2O_cluster_free_memory:    3.507 Gb\n",
       "H2O_cluster_total_cores:    8\n",
       "H2O_cluster_allowed_cores:  8\n",
       "H2O_cluster_status:         locked, healthy\n",
       "H2O_connection_url:         http://127.0.0.1:54321\n",
       "H2O_connection_proxy:       {\"http\": null, \"https\": null}\n",
       "H2O_internal_security:      False\n",
       "Python_version:             3.10.9 final\n",
       "--------------------------  -----------------------------"
      ]
     },
     "metadata": {},
     "output_type": "display_data"
    }
   ],
   "source": [
    "h2o.init()\n"
   ]
  },
  {
   "cell_type": "code",
   "execution_count": 3,
   "metadata": {},
   "outputs": [],
   "source": [
    "movies_df = pd.read_csv('ratings.csv')\n"
   ]
  },
  {
   "cell_type": "code",
   "execution_count": 4,
   "metadata": {},
   "outputs": [
    {
     "name": "stdout",
     "output_type": "stream",
     "text": [
      "Parse progress: |████████████████████████████████████████████████████████████████| (done) 100%\n"
     ]
    }
   ],
   "source": [
    "movies_h2o = h2o.H2OFrame(movies_df)\n"
   ]
  },
  {
   "cell_type": "code",
   "execution_count": 6,
   "metadata": {},
   "outputs": [
    {
     "name": "stdout",
     "output_type": "stream",
     "text": [
      "['id', 'title', 'genre', 'original_language', 'overview', 'popularity', 'release_date', 'vote_average', 'vote_count']\n"
     ]
    }
   ],
   "source": [
    "# Print the column names to check if \"rating\" is present\n",
    "print(movies_h2o.columns)\n"
   ]
  },
  {
   "cell_type": "code",
   "execution_count": 10,
   "metadata": {},
   "outputs": [
    {
     "name": "stdout",
     "output_type": "stream",
     "text": [
      "Parse progress: |████████████████████████████████████████████████████████████████| (done) 100%\n"
     ]
    }
   ],
   "source": [
    "# Convert the pandas DataFrame to an H2OFrame\n",
    "movies_h2o = h2o.H2OFrame(movies_df)\n",
    "\n",
    "# Optionally, split the data into training and test sets\n",
    "train, test = movies_h2o.split_frame(ratios=[.8], seed=1234)"
   ]
  },
  {
   "cell_type": "code",
   "execution_count": 11,
   "metadata": {},
   "outputs": [],
   "source": [
    "x = movies_h2o.columns\n",
    "y = \"vote_average\"\n",
    "x.remove(y)  # Remove the target column from the feature list\n"
   ]
  },
  {
   "cell_type": "code",
   "execution_count": 12,
   "metadata": {},
   "outputs": [
    {
     "name": "stdout",
     "output_type": "stream",
     "text": [
      "AutoML progress: |\n",
      "14:46:10.207: AutoML: XGBoost is not available; skipping it.\n",
      "14:46:10.286: _train param, Dropping bad and constant columns: [title, overview]\n",
      "\n",
      "████\n",
      "14:46:14.814: _train param, Dropping bad and constant columns: [title, overview]\n",
      "14:46:20.957: _train param, Dropping bad and constant columns: [title, overview]\n",
      "\n",
      "████\n",
      "14:46:41.375: _train param, Dropping bad and constant columns: [title, overview]\n",
      "\n",
      "\n",
      "14:46:44.590: _train param, Dropping bad and constant columns: [title, overview]\n",
      "\n",
      "█\n",
      "14:46:47.424: _train param, Dropping bad and constant columns: [title, overview]\n",
      "\n",
      "█\n",
      "14:46:51.581: _train param, Dropping bad and constant columns: [title, overview]\n",
      "\n",
      "██████\n",
      "14:47:33.630: _train param, Dropping bad and constant columns: [title, overview]\n",
      "14:47:36.90: _train param, Dropping bad and constant columns: [title, overview]\n",
      "\n",
      "███\n",
      "14:47:47.686: _train param, Dropping unused columns: [title, overview]\n",
      "\n",
      "████████████████████████████████████████████| (done) 100%\n",
      "\n",
      "14:47:49.470: _train param, Dropping unused columns: [title, overview]\n",
      "\n"
     ]
    },
    {
     "data": {
      "text/html": [
       "<pre style='margin: 1em 0 1em 0;'>Model Details\n",
       "=============\n",
       "H2OStackedEnsembleEstimator : Stacked Ensemble\n",
       "Model Key: StackedEnsemble_AllModels_1_AutoML_1_20240219_144610\n",
       "</pre>\n",
       "<div style='margin: 1em 0 1em 0;'>\n",
       "<style>\n",
       "\n",
       "#h2o-table-2.h2o-container {\n",
       "  overflow-x: auto;\n",
       "}\n",
       "#h2o-table-2 .h2o-table {\n",
       "  /* width: 100%; */\n",
       "  margin-top: 1em;\n",
       "  margin-bottom: 1em;\n",
       "}\n",
       "#h2o-table-2 .h2o-table caption {\n",
       "  white-space: nowrap;\n",
       "  caption-side: top;\n",
       "  text-align: left;\n",
       "  /* margin-left: 1em; */\n",
       "  margin: 0;\n",
       "  font-size: larger;\n",
       "}\n",
       "#h2o-table-2 .h2o-table thead {\n",
       "  white-space: nowrap; \n",
       "  position: sticky;\n",
       "  top: 0;\n",
       "  box-shadow: 0 -1px inset;\n",
       "}\n",
       "#h2o-table-2 .h2o-table tbody {\n",
       "  overflow: auto;\n",
       "}\n",
       "#h2o-table-2 .h2o-table th,\n",
       "#h2o-table-2 .h2o-table td {\n",
       "  text-align: right;\n",
       "  /* border: 1px solid; */\n",
       "}\n",
       "#h2o-table-2 .h2o-table tr:nth-child(even) {\n",
       "  /* background: #F5F5F5 */\n",
       "}\n",
       "\n",
       "</style>      \n",
       "<div id=\"h2o-table-2\" class=\"h2o-container\">\n",
       "  <table class=\"h2o-table\">\n",
       "    <caption>Model Summary for Stacked Ensemble: </caption>\n",
       "    <thead><tr><th>key</th>\n",
       "<th>value</th></tr></thead>\n",
       "    <tbody><tr><td>Stacking strategy</td>\n",
       "<td>cross_validation</td></tr>\n",
       "<tr><td>Number of base models (used / total)</td>\n",
       "<td>7/10</td></tr>\n",
       "<tr><td># GBM base models (used / total)</td>\n",
       "<td>5/6</td></tr>\n",
       "<tr><td># DRF base models (used / total)</td>\n",
       "<td>1/2</td></tr>\n",
       "<tr><td># GLM base models (used / total)</td>\n",
       "<td>1/1</td></tr>\n",
       "<tr><td># DeepLearning base models (used / total)</td>\n",
       "<td>0/1</td></tr>\n",
       "<tr><td>Metalearner algorithm</td>\n",
       "<td>GLM</td></tr>\n",
       "<tr><td>Metalearner fold assignment scheme</td>\n",
       "<td>Random</td></tr>\n",
       "<tr><td>Metalearner nfolds</td>\n",
       "<td>5</td></tr>\n",
       "<tr><td>Metalearner fold_column</td>\n",
       "<td>None</td></tr>\n",
       "<tr><td>Custom metalearner hyperparameters</td>\n",
       "<td>None</td></tr></tbody>\n",
       "  </table>\n",
       "</div>\n",
       "</div>\n",
       "<div style='margin: 1em 0 1em 0;'><pre style='margin: 1em 0 1em 0;'>ModelMetricsRegressionGLM: stackedensemble\n",
       "** Reported on train data. **\n",
       "\n",
       "MSE: 0.12677221310382694\n",
       "RMSE: 0.356050857468181\n",
       "MAE: 0.26389713998692\n",
       "RMSLE: 0.04872148733682914\n",
       "Mean Residual Deviance: 0.12677221310382694\n",
       "R^2: 0.7844544664739743\n",
       "Null degrees of freedom: 8036\n",
       "Residual degrees of freedom: 8029\n",
       "Null deviance: 4726.928273797215\n",
       "Residual deviance: 1018.8682767154572\n",
       "AIC: 6226.692332484894</pre></div>\n",
       "<div style='margin: 1em 0 1em 0;'><pre style='margin: 1em 0 1em 0;'>ModelMetricsRegressionGLM: stackedensemble\n",
       "** Reported on cross-validation data. **\n",
       "\n",
       "MSE: 0.2885884114408531\n",
       "RMSE: 0.5372042548610846\n",
       "MAE: 0.41701279271707936\n",
       "RMSLE: 0.07252378593063617\n",
       "Mean Residual Deviance: 0.2885884114408531\n",
       "R^2: 0.5093250990061466\n",
       "Null degrees of freedom: 8036\n",
       "Residual degrees of freedom: 8029\n",
       "Null deviance: 4727.564016756242\n",
       "Residual deviance: 2319.3850627501365\n",
       "AIC: 12838.005789812207</pre></div>\n",
       "<div style='margin: 1em 0 1em 0;'>\n",
       "<style>\n",
       "\n",
       "#h2o-table-3.h2o-container {\n",
       "  overflow-x: auto;\n",
       "}\n",
       "#h2o-table-3 .h2o-table {\n",
       "  /* width: 100%; */\n",
       "  margin-top: 1em;\n",
       "  margin-bottom: 1em;\n",
       "}\n",
       "#h2o-table-3 .h2o-table caption {\n",
       "  white-space: nowrap;\n",
       "  caption-side: top;\n",
       "  text-align: left;\n",
       "  /* margin-left: 1em; */\n",
       "  margin: 0;\n",
       "  font-size: larger;\n",
       "}\n",
       "#h2o-table-3 .h2o-table thead {\n",
       "  white-space: nowrap; \n",
       "  position: sticky;\n",
       "  top: 0;\n",
       "  box-shadow: 0 -1px inset;\n",
       "}\n",
       "#h2o-table-3 .h2o-table tbody {\n",
       "  overflow: auto;\n",
       "}\n",
       "#h2o-table-3 .h2o-table th,\n",
       "#h2o-table-3 .h2o-table td {\n",
       "  text-align: right;\n",
       "  /* border: 1px solid; */\n",
       "}\n",
       "#h2o-table-3 .h2o-table tr:nth-child(even) {\n",
       "  /* background: #F5F5F5 */\n",
       "}\n",
       "\n",
       "</style>      \n",
       "<div id=\"h2o-table-3\" class=\"h2o-container\">\n",
       "  <table class=\"h2o-table\">\n",
       "    <caption>Cross-Validation Metrics Summary: </caption>\n",
       "    <thead><tr><th></th>\n",
       "<th>mean</th>\n",
       "<th>sd</th>\n",
       "<th>cv_1_valid</th>\n",
       "<th>cv_2_valid</th>\n",
       "<th>cv_3_valid</th>\n",
       "<th>cv_4_valid</th>\n",
       "<th>cv_5_valid</th></tr></thead>\n",
       "    <tbody><tr><td>mae</td>\n",
       "<td>0.4170762</td>\n",
       "<td>0.0108352</td>\n",
       "<td>0.4191031</td>\n",
       "<td>0.3979776</td>\n",
       "<td>0.4243058</td>\n",
       "<td>0.4221314</td>\n",
       "<td>0.4218630</td></tr>\n",
       "<tr><td>mean_residual_deviance</td>\n",
       "<td>0.2887084</td>\n",
       "<td>0.0130019</td>\n",
       "<td>0.2902518</td>\n",
       "<td>0.2659696</td>\n",
       "<td>0.2938132</td>\n",
       "<td>0.2959644</td>\n",
       "<td>0.297543</td></tr>\n",
       "<tr><td>mse</td>\n",
       "<td>0.2887084</td>\n",
       "<td>0.0130019</td>\n",
       "<td>0.2902518</td>\n",
       "<td>0.2659696</td>\n",
       "<td>0.2938132</td>\n",
       "<td>0.2959644</td>\n",
       "<td>0.297543</td></tr>\n",
       "<tr><td>null_deviance</td>\n",
       "<td>945.5128</td>\n",
       "<td>28.174067</td>\n",
       "<td>965.45306</td>\n",
       "<td>949.33545</td>\n",
       "<td>963.47614</td>\n",
       "<td>952.66455</td>\n",
       "<td>896.6348</td></tr>\n",
       "<tr><td>r2</td>\n",
       "<td>0.5093284</td>\n",
       "<td>0.0181410</td>\n",
       "<td>0.4994185</td>\n",
       "<td>0.5410916</td>\n",
       "<td>0.504117</td>\n",
       "<td>0.4963365</td>\n",
       "<td>0.5056781</td></tr>\n",
       "<tr><td>residual_deviance</td>\n",
       "<td>463.78156</td>\n",
       "<td>22.681831</td>\n",
       "<td>483.2693</td>\n",
       "<td>435.39224</td>\n",
       "<td>477.44638</td>\n",
       "<td>479.75836</td>\n",
       "<td>443.0415</td></tr>\n",
       "<tr><td>rmse</td>\n",
       "<td>0.5372039</td>\n",
       "<td>0.0122703</td>\n",
       "<td>0.5387502</td>\n",
       "<td>0.5157224</td>\n",
       "<td>0.5420453</td>\n",
       "<td>0.5440261</td>\n",
       "<td>0.545475</td></tr>\n",
       "<tr><td>rmsle</td>\n",
       "<td>0.0725222</td>\n",
       "<td>0.0017233</td>\n",
       "<td>0.0725310</td>\n",
       "<td>0.0695431</td>\n",
       "<td>0.0733113</td>\n",
       "<td>0.0735747</td>\n",
       "<td>0.0736506</td></tr></tbody>\n",
       "  </table>\n",
       "</div>\n",
       "</div><pre style=\"font-size: smaller; margin: 1em 0 0 0;\">\n",
       "\n",
       "[tips]\n",
       "Use `model.explain()` to inspect the model.\n",
       "--\n",
       "Use `h2o.display.toggle_user_tips()` to switch on/off this section.</pre>"
      ],
      "text/plain": [
       "Model Details\n",
       "=============\n",
       "H2OStackedEnsembleEstimator : Stacked Ensemble\n",
       "Model Key: StackedEnsemble_AllModels_1_AutoML_1_20240219_144610\n",
       "\n",
       "\n",
       "Model Summary for Stacked Ensemble: \n",
       "key                                        value\n",
       "-----------------------------------------  ----------------\n",
       "Stacking strategy                          cross_validation\n",
       "Number of base models (used / total)       7/10\n",
       "# GBM base models (used / total)           5/6\n",
       "# DRF base models (used / total)           1/2\n",
       "# GLM base models (used / total)           1/1\n",
       "# DeepLearning base models (used / total)  0/1\n",
       "Metalearner algorithm                      GLM\n",
       "Metalearner fold assignment scheme         Random\n",
       "Metalearner nfolds                         5\n",
       "Metalearner fold_column\n",
       "Custom metalearner hyperparameters         None\n",
       "\n",
       "ModelMetricsRegressionGLM: stackedensemble\n",
       "** Reported on train data. **\n",
       "\n",
       "MSE: 0.12677221310382694\n",
       "RMSE: 0.356050857468181\n",
       "MAE: 0.26389713998692\n",
       "RMSLE: 0.04872148733682914\n",
       "Mean Residual Deviance: 0.12677221310382694\n",
       "R^2: 0.7844544664739743\n",
       "Null degrees of freedom: 8036\n",
       "Residual degrees of freedom: 8029\n",
       "Null deviance: 4726.928273797215\n",
       "Residual deviance: 1018.8682767154572\n",
       "AIC: 6226.692332484894\n",
       "\n",
       "ModelMetricsRegressionGLM: stackedensemble\n",
       "** Reported on cross-validation data. **\n",
       "\n",
       "MSE: 0.2885884114408531\n",
       "RMSE: 0.5372042548610846\n",
       "MAE: 0.41701279271707936\n",
       "RMSLE: 0.07252378593063617\n",
       "Mean Residual Deviance: 0.2885884114408531\n",
       "R^2: 0.5093250990061466\n",
       "Null degrees of freedom: 8036\n",
       "Residual degrees of freedom: 8029\n",
       "Null deviance: 4727.564016756242\n",
       "Residual deviance: 2319.3850627501365\n",
       "AIC: 12838.005789812207\n",
       "\n",
       "Cross-Validation Metrics Summary: \n",
       "                        mean       sd          cv_1_valid    cv_2_valid    cv_3_valid    cv_4_valid    cv_5_valid\n",
       "----------------------  ---------  ----------  ------------  ------------  ------------  ------------  ------------\n",
       "mae                     0.417076   0.0108352   0.419103      0.397978      0.424306      0.422131      0.421863\n",
       "mean_residual_deviance  0.288708   0.0130019   0.290252      0.26597       0.293813      0.295964      0.297543\n",
       "mse                     0.288708   0.0130019   0.290252      0.26597       0.293813      0.295964      0.297543\n",
       "null_deviance           945.513    28.1741     965.453       949.335       963.476       952.665       896.635\n",
       "r2                      0.509328   0.018141    0.499418      0.541092      0.504117      0.496337      0.505678\n",
       "residual_deviance       463.782    22.6818     483.269       435.392       477.446       479.758       443.041\n",
       "rmse                    0.537204   0.0122703   0.53875       0.515722      0.542045      0.544026      0.545475\n",
       "rmsle                   0.0725222  0.00172328  0.072531      0.0695431     0.0733113     0.0735747     0.0736506\n",
       "\n",
       "[tips]\n",
       "Use `model.explain()` to inspect the model.\n",
       "--\n",
       "Use `h2o.display.toggle_user_tips()` to switch on/off this section."
      ]
     },
     "execution_count": 12,
     "metadata": {},
     "output_type": "execute_result"
    }
   ],
   "source": [
    "# Initialize and run H2O AutoML\n",
    "aml = H2OAutoML(max_models=10, seed=1, max_runtime_secs=600)\n",
    "aml.train(x=x, y=y, training_frame=train)"
   ]
  },
  {
   "cell_type": "code",
   "execution_count": 13,
   "metadata": {},
   "outputs": [
    {
     "name": "stdout",
     "output_type": "stream",
     "text": [
      "model_id                                                     rmse       mse       mae      rmsle    mean_residual_deviance\n",
      "StackedEnsemble_AllModels_1_AutoML_1_20240219_144610     0.537204  0.288588  0.417013  0.0725238                  0.288588\n",
      "StackedEnsemble_BestOfFamily_1_AutoML_1_20240219_144610  0.540708  0.292366  0.420212  0.0729793                  0.292366\n",
      "GBM_5_AutoML_1_20240219_144610                           0.5452    0.297243  0.423646  0.073555                   0.297243\n",
      "GBM_2_AutoML_1_20240219_144610                           0.546372  0.298523  0.42501   0.0736568                  0.298523\n",
      "GBM_1_AutoML_1_20240219_144610                           0.546493  0.298655  0.426443  0.0736769                  0.298655\n",
      "GBM_3_AutoML_1_20240219_144610                           0.548843  0.301229  0.426734  0.074006                   0.301229\n",
      "GBM_4_AutoML_1_20240219_144610                           0.551414  0.304058  0.430136  0.0743706                  0.304058\n",
      "GBM_grid_1_AutoML_1_20240219_144610_model_1              0.57766   0.333691  0.455927  0.0776776                  0.333691\n",
      "DRF_1_AutoML_1_20240219_144610                           0.582149  0.338898  0.458263  0.0781396                  0.338898\n",
      "GLM_1_AutoML_1_20240219_144610                           0.585946  0.343333  0.464887  0.0786856                  0.343333\n",
      "[12 rows x 6 columns]\n",
      "\n",
      "ModelMetricsRegressionGLM: stackedensemble\n",
      "** Reported on test data. **\n",
      "\n",
      "MSE: 0.2950010965683589\n",
      "RMSE: 0.5431400340320707\n",
      "MAE: 0.42596579500752246\n",
      "RMSLE: 0.07306406591658002\n",
      "Mean Residual Deviance: 0.2950010965683589\n",
      "R^2: 0.49360874312502145\n",
      "Null degrees of freedom: 1962\n",
      "Residual degrees of freedom: 1955\n",
      "Null deviance: 1143.596336388375\n",
      "Residual deviance: 579.0871525636885\n",
      "AIC: 3192.368990027177\n"
     ]
    }
   ],
   "source": [
    "# View the AutoML Leaderboard\n",
    "lb = aml.leaderboard\n",
    "print(lb)\n",
    "\n",
    "# Optionally, evaluate the leading model on the test set\n",
    "performance = aml.leader.model_performance(test)\n",
    "print(performance)\n"
   ]
  },
  {
   "cell_type": "code",
   "execution_count": 14,
   "metadata": {},
   "outputs": [
    {
     "name": "stdout",
     "output_type": "stream",
     "text": [
      "Parse progress: |████████████████████████████████████████████████████████████████| (done) 100%\n",
      "stackedensemble prediction progress: |███████████████████████████████████████████| (done) 100%\n"
     ]
    },
    {
     "name": "stderr",
     "output_type": "stream",
     "text": [
      "c:\\Users\\lenovo\\Documents\\AI and ML\\H20 Wave\\venv\\lib\\site-packages\\h2o\\frame.py:1979: H2ODependencyWarning: converting H2O frame to pandas dataframe using single-thread.  For faster conversion using multi-thread, install datatable (for Python 3.9 or lower), or polars and pyarrow (for Python 3.10 or above).\n",
      "  warnings.warn(\"converting H2O frame to pandas dataframe using single-thread.  For faster conversion using\"\n"
     ]
    },
    {
     "name": "stdout",
     "output_type": "stream",
     "text": [
      "       predict\n",
      "0     8.854538\n",
      "1     8.423713\n",
      "2     8.781214\n",
      "3     8.451011\n",
      "4     8.547957\n",
      "...        ...\n",
      "9995  5.605921\n",
      "9996  5.103660\n",
      "9997  6.214985\n",
      "9998  5.381425\n",
      "9999  6.216547\n",
      "\n",
      "[10000 rows x 1 columns]\n"
     ]
    }
   ],
   "source": [
    "# Assuming `new_movies_df` is your new pandas DataFrame with movies to predict\n",
    "new_movies_h2o = h2o.H2OFrame(movies_df)\n",
    "\n",
    "# Use the best model to make predictions\n",
    "predictions = aml.leader.predict(new_movies_h2o)\n",
    "\n",
    "# Convert predictions to pandas DataFrame if needed\n",
    "predictions_df = h2o.as_list(predictions, use_pandas=True)\n",
    "print(predictions_df)\n"
   ]
  },
  {
   "cell_type": "code",
   "execution_count": 15,
   "metadata": {},
   "outputs": [
    {
     "name": "stdout",
     "output_type": "stream",
     "text": [
      "stackedensemble prediction progress: |███████████████████████████████████████████| (done) 100%\n"
     ]
    },
    {
     "name": "stderr",
     "output_type": "stream",
     "text": [
      "c:\\Users\\lenovo\\Documents\\AI and ML\\H20 Wave\\venv\\lib\\site-packages\\h2o\\frame.py:1979: H2ODependencyWarning: converting H2O frame to pandas dataframe using single-thread.  For faster conversion using multi-thread, install datatable (for Python 3.9 or lower), or polars and pyarrow (for Python 3.10 or above).\n",
      "  warnings.warn(\"converting H2O frame to pandas dataframe using single-thread.  For faster conversion using\"\n"
     ]
    }
   ],
   "source": [
    "# Assuming `movies_h2o` is your dataset prepared for predictions (without actual ratings)\n",
    "predictions = aml.leader.predict(movies_h2o)\n",
    "\n",
    "# Add predictions back to the original DataFrame\n",
    "movies_df['predicted_rating'] = h2o.as_list(predictions, use_pandas=True)\n"
   ]
  },
  {
   "cell_type": "code",
   "execution_count": 17,
   "metadata": {},
   "outputs": [],
   "source": [
    "import pandas as pd\n",
    "\n",
    "# Assuming 'movies.csv' (or 'ratings.csv') was your original dataset\n",
    "movies = pd.read_csv('ratings.csv')\n",
    "movies['tags'] = movies['overview'].fillna('') + \" \" + movies['genre'].fillna('')\n",
    "new_data = movies.drop(columns=['overview', 'genre'])\n"
   ]
  },
  {
   "cell_type": "code",
   "execution_count": 18,
   "metadata": {},
   "outputs": [
    {
     "name": "stderr",
     "output_type": "stream",
     "text": [
      "c:\\Users\\lenovo\\Documents\\AI and ML\\H20 Wave\\venv\\lib\\site-packages\\h2o\\frame.py:1979: H2ODependencyWarning: converting H2O frame to pandas dataframe using single-thread.  For faster conversion using multi-thread, install datatable (for Python 3.9 or lower), or polars and pyarrow (for Python 3.10 or above).\n",
      "  warnings.warn(\"converting H2O frame to pandas dataframe using single-thread.  For faster conversion using\"\n"
     ]
    }
   ],
   "source": [
    "# Assuming you already have your H2O model predictions in `predictions`\n",
    "movies_df['predicted_rating'] = h2o.as_list(predictions, use_pandas=True)\n"
   ]
  },
  {
   "cell_type": "code",
   "execution_count": 22,
   "metadata": {},
   "outputs": [],
   "source": [
    "import pandas as pd\n",
    "from sklearn.feature_extraction.text import CountVectorizer\n",
    "from sklearn.metrics.pairwise import cosine_similarity\n",
    "\n",
    "# Load the dataset\n",
    "movies = pd.read_csv('ratings.csv')\n",
    "\n",
    "# Preparing 'tags' by combining 'overview' and 'genre', filling NaNs with empty strings\n",
    "movies['tags'] = movies['overview'].fillna('') + \" \" + movies['genre'].fillna('')\n",
    "\n",
    "# Dropping unnecessary columns for the recommendation part\n",
    "new_data = movies[['id', 'title', 'tags']]\n",
    "\n",
    "# Vectorizing the 'tags' text for similarity comparison\n",
    "cv = CountVectorizer(max_features=10000, stop_words='english')\n",
    "vectors = cv.fit_transform(new_data['tags']).toarray()\n",
    "\n",
    "# Calculating cosine similarity matrix\n",
    "similarity = cosine_similarity(vectors)"
   ]
  },
  {
   "cell_type": "code",
   "execution_count": 25,
   "metadata": {},
   "outputs": [
    {
     "name": "stderr",
     "output_type": "stream",
     "text": [
      "c:\\Users\\lenovo\\Documents\\AI and ML\\H20 Wave\\venv\\lib\\site-packages\\h2o\\frame.py:1979: H2ODependencyWarning: converting H2O frame to pandas dataframe using single-thread.  For faster conversion using multi-thread, install datatable (for Python 3.9 or lower), or polars and pyarrow (for Python 3.10 or above).\n",
      "  warnings.warn(\"converting H2O frame to pandas dataframe using single-thread.  For faster conversion using\"\n"
     ]
    }
   ],
   "source": [
    "# Assuming 'predictions' contains your model's predicted ratings\n",
    "# Convert H2O predictions to a pandas DataFrame\n",
    "predicted_ratings_df = h2o.as_list(predictions, use_pandas=True)\n",
    "\n",
    "# Add these predicted ratings to your original movies DataFrame\n",
    "movies['predicted_rating'] = predicted_ratings_df['predict']\n"
   ]
  },
  {
   "cell_type": "code",
   "execution_count": 26,
   "metadata": {},
   "outputs": [],
   "source": [
    "def enhanced_recommend(movie_title, num_recommendations=5):\n",
    "    movie_indices = new_data.index[new_data['title'] == movie_title].tolist()\n",
    "    if not movie_indices:\n",
    "        print(\"Movie not found.\")\n",
    "        return\n",
    "    idx = movie_indices[0]\n",
    "\n",
    "    # Compute similarity scores and get top N similar movies, excluding the movie itself\n",
    "    sim_scores = list(enumerate(similarity[idx]))\n",
    "    sim_scores = sorted(sim_scores, key=lambda x: x[1], reverse=True)[1:num_recommendations+1]\n",
    "\n",
    "    # Get indices of the similar movies\n",
    "    movie_indices = [i[0] for i in sim_scores]\n",
    "\n",
    "    # Fetching the movie titles and predicted ratings based on the indices\n",
    "    recommended_movies = new_data.iloc[movie_indices][['title']]\n",
    "    recommended_movies = recommended_movies.merge(movies[['title', 'predicted_rating']], on='title', how='left')\n",
    "\n",
    "    # Sort the recommended movies based on predicted ratings\n",
    "    recommended_movies = recommended_movies.sort_values('predicted_rating', ascending=False)\n",
    "    \n",
    "    return recommended_movies\n"
   ]
  },
  {
   "cell_type": "code",
   "execution_count": 27,
   "metadata": {},
   "outputs": [
    {
     "data": {
      "text/html": [
       "<div>\n",
       "<style scoped>\n",
       "    .dataframe tbody tr th:only-of-type {\n",
       "        vertical-align: middle;\n",
       "    }\n",
       "\n",
       "    .dataframe tbody tr th {\n",
       "        vertical-align: top;\n",
       "    }\n",
       "\n",
       "    .dataframe thead th {\n",
       "        text-align: right;\n",
       "    }\n",
       "</style>\n",
       "<table border=\"1\" class=\"dataframe\">\n",
       "  <thead>\n",
       "    <tr style=\"text-align: right;\">\n",
       "      <th></th>\n",
       "      <th>title</th>\n",
       "      <th>predicted_rating</th>\n",
       "    </tr>\n",
       "  </thead>\n",
       "  <tbody>\n",
       "    <tr>\n",
       "      <th>2</th>\n",
       "      <td>Avengers: Age of Ultron</td>\n",
       "      <td>7.634792</td>\n",
       "    </tr>\n",
       "    <tr>\n",
       "      <th>1</th>\n",
       "      <td>Guardians of the Galaxy Vol. 2</td>\n",
       "      <td>7.580320</td>\n",
       "    </tr>\n",
       "    <tr>\n",
       "      <th>0</th>\n",
       "      <td>Iron Man 3</td>\n",
       "      <td>7.374683</td>\n",
       "    </tr>\n",
       "    <tr>\n",
       "      <th>3</th>\n",
       "      <td>Star Wars: Episode III - Revenge of the Sith</td>\n",
       "      <td>7.241366</td>\n",
       "    </tr>\n",
       "    <tr>\n",
       "      <th>4</th>\n",
       "      <td>G.O.R.A.</td>\n",
       "      <td>7.019276</td>\n",
       "    </tr>\n",
       "  </tbody>\n",
       "</table>\n",
       "</div>"
      ],
      "text/plain": [
       "                                          title  predicted_rating\n",
       "2                       Avengers: Age of Ultron          7.634792\n",
       "1                Guardians of the Galaxy Vol. 2          7.580320\n",
       "0                                    Iron Man 3          7.374683\n",
       "3  Star Wars: Episode III - Revenge of the Sith          7.241366\n",
       "4                                      G.O.R.A.          7.019276"
      ]
     },
     "execution_count": 27,
     "metadata": {},
     "output_type": "execute_result"
    }
   ],
   "source": [
    "enhanced_recommend(\"Iron Man\")"
   ]
  },
  {
   "cell_type": "code",
   "execution_count": null,
   "metadata": {},
   "outputs": [],
   "source": []
  }
 ],
 "metadata": {
  "kernelspec": {
   "display_name": "venv",
   "language": "python",
   "name": "python3"
  },
  "language_info": {
   "codemirror_mode": {
    "name": "ipython",
    "version": 3
   },
   "file_extension": ".py",
   "mimetype": "text/x-python",
   "name": "python",
   "nbconvert_exporter": "python",
   "pygments_lexer": "ipython3",
   "version": "3.10.9"
  }
 },
 "nbformat": 4,
 "nbformat_minor": 2
}
